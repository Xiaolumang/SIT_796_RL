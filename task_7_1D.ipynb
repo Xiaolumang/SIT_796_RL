{
  "cells": [
    {
      "cell_type": "markdown",
      "metadata": {
        "id": "view-in-github",
        "colab_type": "text"
      },
      "source": [
        "<a href=\"https://colab.research.google.com/github/Xiaolumang/SIT_796_RL/blob/main/task_7_1D.ipynb\" target=\"_parent\"><img src=\"https://colab.research.google.com/assets/colab-badge.svg\" alt=\"Open In Colab\"/></a>"
      ]
    },
    {
      "cell_type": "code",
      "execution_count": 7,
      "metadata": {
        "id": "0bmA26M5Cy6G"
      },
      "outputs": [],
      "source": [
        "import numpy as np\n",
        "import gym"
      ]
    },
    {
      "cell_type": "code",
      "execution_count": 16,
      "metadata": {
        "id": "SbOnr5KVC7QF"
      },
      "outputs": [],
      "source": [
        "from numpy.core.numerictypes import sctype2char\n",
        "class tile_encoding:\n",
        "  def __init__(self, numTilings, tiles1d):\n",
        "    self.maxIn = env.observation_space.high\n",
        "    self.minIn = env.observation_space.low\n",
        "    self.numTilings = numTilings\n",
        "    self.tiles1d = tiles1d\n",
        "    self.dim = len(self.minIn)\n",
        "    self.numTiles = (self.tiles1d**self.dim)*self.numTilings\n",
        "    self.actions = env.action_space.n\n",
        "    self.total_tiles = self.numTiles * self.actions\n",
        "    self.tileSize = np.divide(np.subtract(self.maxIn, self.minIn), self.tiles1d-1)\n",
        "    \n",
        "  \n",
        "  def featurize_state_action(self, state, action):\n",
        "    tileIndices = self.getFeatures(state)\n",
        "    features = []\n",
        "    for i in tileIndices:\n",
        "      index = int(i+ self.numTiles*action)\n",
        "      features.append(index)\n",
        "    return np.array(features)\n",
        "\n",
        "  def getFeatures(self, variables):\n",
        "    self.variables = np.subtract(variables, self.minIn)\n",
        "    tileIndices = np.zeros(self.numTilings)\n",
        "    matrix = np.zeros([self.numTilings, self.dim])\n",
        "    for i in range(self.numTilings):\n",
        "      for i2 in range(self.dim):\n",
        "        matrix[i, i2] = int(self.variables[i2]/self.tileSize[i2] + i/self.numTilings)\n",
        "\n",
        "    for i in range(1, self.dim):\n",
        "      matrix[:,i] *= self.tiles1d ** i\n",
        "   \n",
        "    for i in range(self.numTilings):\n",
        "      tileIndices[i] = (i*(self.tiles1d ** self.dim) + sum(matrix[i,:]))\n",
        "    return tileIndices\n",
        "\n",
        "\n",
        "\n",
        "class Model:\n",
        "  def __init__(self, trace= False):\n",
        "    self.trace = trace\n",
        "    self.theta = np.random.uniform(-0.001,0, size=(tile.total_tiles))\n",
        "    self.alpha = 1/tile.numTilings\n",
        "  \n",
        "  def reset(self, z_only):\n",
        "    if z_only:\n",
        "      self.z = np.zeros(tile.total_tiles)\n",
        "    else:\n",
        "      if self.trace:\n",
        "        self.z = np.zeros(tile.total_tiles)\n",
        "      self.theta = np.random.uniform(-0.001,0, size=(tile.total_tiles))\n",
        "\n",
        "  def predict(self, s, a=None):\n",
        "    if a is not None:\n",
        "      return np.sum(self.theta[tile.featurize_state_action(s,a)])\n",
        "    else:\n",
        "      rst = [np.sum(self.theta[tile.featurize_state_action(s,a)])  for a in range(env.action_space.n) ]\n",
        "      return rst\n",
        "    \n",
        "\n",
        "  def grad(self, s, a):\n",
        "    grad = np.zeros(len(self.theta))\n",
        "    features = tile.getFeatures(s) + tile.numTiles*a\n",
        "    for x in features:\n",
        "      grad[int(x)] = 1\n",
        "    \n",
        "    return grad\n",
        "  \n",
        "  def update(self, state, action, target):\n",
        "    features = tile.featurize_state_action(state, action)\n",
        "    estimation = np.sum(self.theta[features])\n",
        "   # print('theta ', np.sum(self.theta))\n",
        "    delta = target - estimation\n",
        "    if self.trace:\n",
        "     # self.z[features] = 1\n",
        "      # update all states\n",
        "      #self.theta += self.alpha *delta * self.z*self.grad(state,action)\n",
        "      self.theta += 1/episode *delta * self.z*self.grad(state,action)\n",
        "    else:\n",
        "      # update using tile coding\n",
        "      self.theta += 1/episode * delta*self.grad(state,action)\n",
        "      #model.theta += model.alpha *(r + gamma * maxQs2a2 - model.predict(state, action))*model.grad(state,action)\n",
        "\n",
        "\n",
        "  # def getVal(self, theta, features, action):\n",
        "  #   val = 0\n",
        "  #   for i in features:\n",
        "  #     index = int(i+self.numTiles*action)\n",
        "  #    # print(i, index, len(theta))\n",
        "  #     val += theta[index]\n",
        "  #   return val\n",
        "\n",
        "def epsilon_greedy_policy(model, epsilon, num_actions):\n",
        "  def policy(state):\n",
        "    action_probs = np.ones(num_actions, dtype=float) * epsilon/num_actions\n",
        "    q_values = model.predict(state)\n",
        "    best_action_index = np.argmax(q_values)\n",
        "    action_probs[best_action_index] += 1- epsilon\n",
        "    return action_probs\n",
        "\n",
        "  return policy\n",
        "\n",
        "\n",
        "def train_model( model,env, gamma, epsilon,lmda=0.7,sarsa_lambda=False):\n",
        " \n",
        "  # sarsa lambda set eligibility to 0 for all states\n",
        "  if sarsa_lambda is True:\n",
        "    model.reset(True)\n",
        " # print(model.z)\n",
        "  \n",
        "  policy = epsilon_greedy_policy(model, epsilon,env.action_space.n)\n",
        "  \n",
        "  state = env.reset()\n",
        "  action_probs = policy(state)\n",
        "  action = np.random.choice(np.arange(len(action_probs)), p = action_probs)\n",
        "  \n",
        "  for i in range(200):\n",
        "      next_s, r, done, _ = env.step(action)\n",
        "      if done:\n",
        "        model.update(state,action, r)\n",
        "        break\n",
        "      else:\n",
        "        next_action_probs = policy(next_s)\n",
        "        next_action = np.random.choice(np.arange(len(next_action_probs)), p = next_action_probs)\n",
        "        q_new = model.predict(next_s, next_action)\n",
        "        #print('q_new ',q_new, next_s, next_action)\n",
        "        target = r + gamma * q_new\n",
        "        if sarsa_lambda is True:\n",
        "          model.z = model.z * gamma * lmda + model.grad(state,action)\n",
        "        #  print(model.z)\n",
        "        #print(model.theta)\n",
        "\n",
        "        model.update(state, action, target)\n",
        "      \n",
        "      state = next_s\n",
        "      action = next_action"
      ]
    },
    {
      "cell_type": "code",
      "source": [
        "# install required system dependencies\n",
        "# install required system dependencies\n",
        "!apt-get install -y xvfb x11-utils \n",
        "!apt-get install x11-utils > /dev/null 2>&1\n",
        "!pip install PyVirtualDisplay==2.0.* \\\n",
        "  PyOpenGL==3.1.* \\\n",
        "  PyOpenGL-accelerate==3.1.* \\\n",
        "  gym[box2d]==0.17.* \n",
        "!pip install pyglet\n",
        "import base64\n",
        "import io\n",
        "import IPython\n",
        "from gym.wrappers import Monitor\n",
        "from IPython import display\n",
        "from pyvirtualdisplay import Display\n",
        "import gym\n",
        "\n",
        "def run_model(model):\n",
        "  \n",
        "  d = Display()\n",
        "  d.start()\n",
        "\n",
        "  env = gym.make('MountainCar-v0')\n",
        "  env = Monitor(env,'./vid',force=True)\n",
        "\n",
        "  state = env.reset()\n",
        "  for step in range(1,300):\n",
        "    policy = epsilon_greedy_policy(model, 0,env.action_space.n)\n",
        "    action_probs = policy(state)\n",
        "    action = np.argmax(action_probs)\n",
        "    state, r, done, _ = env.step(int(action))\n",
        "    if done:\n",
        "      state = env.reset()\n",
        "      print(f'episode ends in {step} steps')\n",
        "      break\n",
        "  return env\n",
        "\n",
        "def show_videos(env):\n",
        "  for f in env.videos:\n",
        " \n",
        "    video = io.open(f[0], 'r+b').read()\n",
        "    encoded = base64.b64encode(video)\n",
        "\n",
        "    display.display(display.HTML(data=\"\"\"\n",
        "        <video alt=\"test\" controls>\n",
        "        <source src=\"data:video/mp4;base64,{0}\" type=\"video/mp4\" />\n",
        "        </video>\n",
        "        \"\"\".format(encoded.decode('ascii'))))\n",
        "\n"
      ],
      "metadata": {
        "colab": {
          "base_uri": "https://localhost:8080/"
        },
        "id": "pGvUAJ-BdDHS",
        "outputId": "59ec2898-8dd1-4699-b152-43780107eb2f"
      },
      "execution_count": 17,
      "outputs": [
        {
          "output_type": "stream",
          "name": "stdout",
          "text": [
            "Reading package lists... Done\n",
            "Building dependency tree       \n",
            "Reading state information... Done\n",
            "x11-utils is already the newest version (7.7+3build1).\n",
            "xvfb is already the newest version (2:1.19.6-1ubuntu4.10).\n",
            "The following package was automatically installed and is no longer required:\n",
            "  libnvidia-common-460\n",
            "Use 'apt autoremove' to remove it.\n",
            "0 upgraded, 0 newly installed, 0 to remove and 42 not upgraded.\n",
            "Looking in indexes: https://pypi.org/simple, https://us-python.pkg.dev/colab-wheels/public/simple/\n",
            "Requirement already satisfied: PyVirtualDisplay==2.0.* in /usr/local/lib/python3.7/dist-packages (2.0)\n",
            "Requirement already satisfied: PyOpenGL==3.1.* in /usr/local/lib/python3.7/dist-packages (3.1.6)\n",
            "Requirement already satisfied: PyOpenGL-accelerate==3.1.* in /usr/local/lib/python3.7/dist-packages (3.1.5)\n",
            "Requirement already satisfied: gym[box2d]==0.17.* in /usr/local/lib/python3.7/dist-packages (0.17.3)\n",
            "Requirement already satisfied: EasyProcess in /usr/local/lib/python3.7/dist-packages (from PyVirtualDisplay==2.0.*) (1.1)\n",
            "Requirement already satisfied: numpy>=1.10.4 in /usr/local/lib/python3.7/dist-packages (from gym[box2d]==0.17.*) (1.21.6)\n",
            "Requirement already satisfied: pyglet<=1.5.0,>=1.4.0 in /usr/local/lib/python3.7/dist-packages (from gym[box2d]==0.17.*) (1.5.0)\n",
            "Requirement already satisfied: cloudpickle<1.7.0,>=1.2.0 in /usr/local/lib/python3.7/dist-packages (from gym[box2d]==0.17.*) (1.3.0)\n",
            "Requirement already satisfied: scipy in /usr/local/lib/python3.7/dist-packages (from gym[box2d]==0.17.*) (1.4.1)\n",
            "Requirement already satisfied: box2d-py~=2.3.5 in /usr/local/lib/python3.7/dist-packages (from gym[box2d]==0.17.*) (2.3.8)\n",
            "Requirement already satisfied: future in /usr/local/lib/python3.7/dist-packages (from pyglet<=1.5.0,>=1.4.0->gym[box2d]==0.17.*) (0.16.0)\n",
            "Looking in indexes: https://pypi.org/simple, https://us-python.pkg.dev/colab-wheels/public/simple/\n",
            "Requirement already satisfied: pyglet in /usr/local/lib/python3.7/dist-packages (1.5.0)\n",
            "Requirement already satisfied: future in /usr/local/lib/python3.7/dist-packages (from pyglet) (0.16.0)\n"
          ]
        }
      ]
    },
    {
      "cell_type": "markdown",
      "source": [
        "## Sarsa(0)"
      ],
      "metadata": {
        "id": "-gDwHAhaXfO4"
      }
    },
    {
      "cell_type": "code",
      "source": [
        "gamma = 0.9\n",
        "\n",
        "numEpisodes = 5000\n",
        "\n",
        "epsilon = 0.1\n",
        "env = gym.make('MountainCar-v0')\n",
        "tile = tile_encoding(4, 18)"
      ],
      "metadata": {
        "id": "JyQ29aekhUvV"
      },
      "execution_count": 18,
      "outputs": []
    },
    {
      "cell_type": "code",
      "execution_count": null,
      "metadata": {
        "id": "pUj4fYMpLQrw"
      },
      "outputs": [],
      "source": [
        "model_sarsa_0 = Model(trace =False)\n",
        "\n",
        "for episode in range(1, numEpisodes+1):\n",
        "  if episode %2000 == 0:\n",
        "    print(episode)\n",
        "  train_model( model_sarsa_0,env, gamma, epsilon,0.7,False)\n",
        "  epsilon = 0.95 * epsilon\n",
        "\n",
        "!rm ./vid/*.*\n",
        "env = run_model(model_sarsa_0)\n",
        "show_videos(env)\n"
      ]
    },
    {
      "cell_type": "markdown",
      "source": [
        "## Sarsa lambda\n"
      ],
      "metadata": {
        "id": "VqJwtpe_XwQF"
      }
    },
    {
      "cell_type": "code",
      "source": [
        "gamma = 0.9\n",
        "numEpisodes = 3000\n",
        "lmda = 0.3\n",
        "epsilon = 0.1\n",
        "env = gym.make('MountainCar-v0')\n",
        "tile = tile_encoding(4, 18)"
      ],
      "metadata": {
        "id": "FLjHMP28hF9T"
      },
      "execution_count": 9,
      "outputs": []
    },
    {
      "cell_type": "code",
      "source": [
        "model_sarsa_lambda = Model(trace =True)\n",
        "\n",
        "for episode in range(1,numEpisodes+1):\n",
        "  if episode %2000 == 0:\n",
        "    print(episode)\n",
        "  train_model( model_sarsa_lambda,env, gamma, epsilon,lmda,True)\n",
        "  epsilon = 0.95 * epsilon\n",
        "\n",
        "!rm ./vid/*.*\n",
        "env = run_model(model_sarsa_lambda)\n",
        "show_videos(env)"
      ],
      "metadata": {
        "id": "82lU7SdyXvYu"
      },
      "execution_count": null,
      "outputs": []
    },
    {
      "cell_type": "code",
      "source": [
        ""
      ],
      "metadata": {
        "id": "3cB-XNkMSUWD"
      },
      "execution_count": null,
      "outputs": []
    }
  ],
  "metadata": {
    "colab": {
      "name": "task_7_1D.ipynb",
      "provenance": [],
      "collapsed_sections": [],
      "authorship_tag": "ABX9TyPALcDsa2dYNhnUZbiwxC8N",
      "include_colab_link": true
    },
    "kernelspec": {
      "display_name": "Python 3",
      "name": "python3"
    },
    "language_info": {
      "name": "python"
    }
  },
  "nbformat": 4,
  "nbformat_minor": 0
}